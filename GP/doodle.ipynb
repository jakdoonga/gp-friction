{
 "cells": [
  {
   "cell_type": "code",
   "execution_count": null,
   "metadata": {},
   "outputs": [],
   "source": [
    "# 데이터 크기 확인\n",
    "print(\"X shape:\", X.shape)\n",
    "print(\"Y shape:\", Y.shape)\n",
    "\n",
    "# 데이터를 함께 섞기 위해 인덱스를 생성\n",
    "num_samples = X.shape[0]\n",
    "indices = np.arange(num_samples)\n",
    "np.random.shuffle(indices)\n",
    "\n",
    "# 섞인 인덱스를 사용하여 데이터를 섞음\n",
    "X_shuffled = X[indices]\n",
    "Y_shuffled = Y[indices]\n",
    "\n",
    "# 데이터를 9:1 비율로 train과 test 세트로 나눔\n",
    "train_size = int(0.9 * num_samples)\n",
    "X_train, X_test = X_shuffled[:train_size], X_shuffled[train_size:]\n",
    "Y_train, Y_test = Y_shuffled[:train_size], Y_shuffled[train_size:]\n",
    "\n",
    "# 결과 확인\n",
    "print(\"Train set:\")\n",
    "print(\"X_train shape:\", X_train.shape)\n",
    "print(\"Y_train shape:\", Y_train.shape)\n",
    "print(\"Test set:\")\n",
    "print(\"X_test shape:\", X_test.shape)\n",
    "print(\"Y_test shape:\", Y_test.shape)\n"
   ]
  },
  {
   "cell_type": "code",
   "execution_count": null,
   "metadata": {},
   "outputs": [],
   "source": []
  },
  {
   "cell_type": "code",
   "execution_count": null,
   "metadata": {},
   "outputs": [],
   "source": [
    "import matplotlib.pyplot as plt\n",
    "import numpy as np\n",
    "import tensorflow as tf\n",
    "\n",
    "import gpflow\n",
    "from gpflow.ci_utils import reduce_in_tests\n",
    "from gpflow.config import default_float\n",
    "\n",
    "## sample data\n",
    "X = np.array(\n",
    "    [\n",
    "        [0.865], [0.666], [0.804], [0.771], [0.147], [0.866], [0.007], [0.026],\n",
    "        [0.171], [0.889], [0.243], [0.028],\n",
    "    ]\n",
    ")\n",
    "Y = np.array(\n",
    "    [\n",
    "        [1.57], [3.48], [3.12], [3.91], [3.07], [1.35], [3.80], [3.82], [3.49],\n",
    "        [1.30], [4.00], [3.82],\n",
    "    ]\n",
    ")\n",
    "\n",
    "# ## sample data - nosiy sinx\n",
    "# num_train_data = reduce_in_tests(100)\n",
    "# num_test_data = reduce_in_tests(500)\n",
    "\n",
    "# X = tf.random.uniform((num_train_data, 1), dtype=default_float()) * 10\n",
    "# Xtest = tf.random.uniform((num_test_data, 1), dtype=default_float()) * 10\n",
    "\n",
    "# def noisy_sin(x):\n",
    "#     return tf.math.sin(x) + 0.1 * tf.random.normal(\n",
    "#         x.shape, dtype=default_float()\n",
    "#     )\n",
    "# Y = noisy_sin(X)\n",
    "# Ytest = noisy_sin(Xtest)\n",
    "\n",
    "\n",
    "# plt.plot(X, Y, \"kx\", mew=2)\n",
    "# plt.show()\n",
    "\n",
    "## create model\n",
    "model = gpflow.models.GPR(\n",
    "    (X, Y),\n",
    "    kernel=gpflow.kernels.SquaredExponential(),\n",
    ")\n",
    "\n",
    "## train the model\n",
    "opt = gpflow.optimizers.Scipy()\n",
    "opt.minimize(model.training_loss, model.trainable_variables)\n",
    "\n",
    "## wanna know f and Y might be at 0.5\n",
    "Xnew = np.array([[0.5]])\n",
    "model.predict_f(Xnew)\n",
    "model.predict_y(Xnew)\n",
    "\n",
    "## generate test pts for prediction\n",
    "Xplot = np.linspace(-0.1, 1.1, 100)[:, None]\n",
    "## predict f and Y\n",
    "f_mean, f_var = model.predict_f(Xplot, full_cov=False)\n",
    "y_mean, y_var = model.predict_y(Xplot)\n",
    "## compute 95% confidence interval of f and Y\n",
    "f_lower = f_mean - 1.96 * np.sqrt(f_var)\n",
    "f_upper = f_mean + 1.96 * np.sqrt(f_var)\n",
    "y_lower = y_mean - 1.96 * np.sqrt(y_var)\n",
    "y_upper = y_mean + 1.96 * np.sqrt(y_var)"
   ]
  },
  {
   "cell_type": "code",
   "execution_count": 5,
   "metadata": {},
   "outputs": [
    {
     "data": {
      "text/plain": [
       "TensorShape([100, 1])"
      ]
     },
     "execution_count": 5,
     "metadata": {},
     "output_type": "execute_result"
    }
   ],
   "source": [
    "f_mean.shape"
   ]
  }
 ],
 "metadata": {
  "kernelspec": {
   "display_name": "Python 3",
   "language": "python",
   "name": "python3"
  },
  "language_info": {
   "codemirror_mode": {
    "name": "ipython",
    "version": 3
   },
   "file_extension": ".py",
   "mimetype": "text/x-python",
   "name": "python",
   "nbconvert_exporter": "python",
   "pygments_lexer": "ipython3",
   "version": "3.8.10"
  }
 },
 "nbformat": 4,
 "nbformat_minor": 2
}
